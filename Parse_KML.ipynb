{
 "cells": [
  {
   "cell_type": "code",
   "execution_count": 7,
   "metadata": {},
   "outputs": [],
   "source": [
    "import numpy as np\n",
    "import re\n",
    "import pandas as pd"
   ]
  },
  {
   "cell_type": "code",
   "execution_count": 8,
   "metadata": {},
   "outputs": [],
   "source": [
    "#Acquisition swatchs\n",
    "kml_file = \"Data/In/Sentinel-2A_MP_ACQ_KML_20200326T120000_20200413T150000.kml\""
   ]
  },
  {
   "cell_type": "code",
   "execution_count": 9,
   "metadata": {},
   "outputs": [],
   "source": [
    "#Converts the kml file into one txt string with urf-8 encoding\n",
    "kml_str = \"\"\n",
    "for line in open(kml_file):\n",
    "    kml_str += line"
   ]
  },
  {
   "cell_type": "code",
   "execution_count": 10,
   "metadata": {},
   "outputs": [],
   "source": [
    "#Get rid of the blanks\n",
    "kml_str = kml_str.replace(\"\\n\", \"\")\n",
    "kml_str = kml_str.replace(\"\\t\",\"\")"
   ]
  },
  {
   "cell_type": "code",
   "execution_count": 11,
   "metadata": {},
   "outputs": [],
   "source": [
    "#All coordinates and timestamps are stored in between the markers below (designated by .*?)\n",
    "coords_pattern = '<coordinates>(.*?)</coordinates>'\n",
    "timespan_pattern = '<TimeSpan>(.*?)</TimeSpan>'\n",
    "\n",
    "#Extracts the coordinates and times between their markers\n",
    "coords = np.array(re.findall(coords_pattern, kml_str, re.DOTALL))\n",
    "times = np.array(re.findall(timespan_pattern, kml_str, re.DOTALL))"
   ]
  },
  {
   "cell_type": "code",
   "execution_count": 12,
   "metadata": {},
   "outputs": [],
   "source": [
    "overpasses = []\n",
    "\n",
    "#Extracts just the start date, stop date and times of day\n",
    "for row in times:\n",
    "    start = row.find(\"<begin>\") + 7\n",
    "    stop = row.find(\"T\")\n",
    "    overpasses.append(row[start:stop])"
   ]
  },
  {
   "cell_type": "code",
   "execution_count": 65,
   "metadata": {},
   "outputs": [],
   "source": [
    "#Reformat the coordinates: \n",
    "##\"coordX1,coordY1/coordX2,coordY2\" instead of xml style \"coordX1,coordY1,0 coordX2,coordY2\"\n",
    "\n",
    "for row_index in range(coords.shape[0]):\n",
    "    coords[row_index] = coords[row_index].replace(\",0 \", \"/\")"
   ]
  },
  {
   "cell_type": "code",
   "execution_count": 106,
   "metadata": {},
   "outputs": [],
   "source": [
    "polygon = []\n",
    "polygons = []\n",
    "coord =''\n",
    "\n",
    "#Creates 2d array of all polygons with each cell being a polygon\n",
    "for row in coords:\n",
    "    for c in row:   \n",
    "        if c!='/':\n",
    "            coord = coord+c\n",
    "        else: \n",
    "            polygon.append(coord)\n",
    "            coord = ''\n",
    "            \n",
    "    polygons.append(polygon)\n",
    "    polygon = []\n",
    "\n",
    "    "
   ]
  },
  {
   "cell_type": "code",
   "execution_count": 113,
   "metadata": {},
   "outputs": [],
   "source": [
    "#Final data frame\n",
    "df = pd.DataFrame({\"Polygon\": polygons, \"Overpass\": overpasses}, index=range(len(polygons)))"
   ]
  },
  {
   "cell_type": "code",
   "execution_count": 116,
   "metadata": {},
   "outputs": [],
   "source": [
    "df.to_csv(\"parsedkml.csv\")"
   ]
  },
  {
   "cell_type": "code",
   "execution_count": null,
   "metadata": {},
   "outputs": [],
   "source": []
  }
 ],
 "metadata": {
  "kernelspec": {
   "display_name": "Python 3",
   "language": "python",
   "name": "python3"
  },
  "language_info": {
   "codemirror_mode": {
    "name": "ipython",
    "version": 3
   },
   "file_extension": ".py",
   "mimetype": "text/x-python",
   "name": "python",
   "nbconvert_exporter": "python",
   "pygments_lexer": "ipython3",
   "version": "3.7.4"
  }
 },
 "nbformat": 4,
 "nbformat_minor": 2
}
